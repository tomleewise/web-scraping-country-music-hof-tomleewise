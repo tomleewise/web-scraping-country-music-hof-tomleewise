{
 "cells": [
  {
   "cell_type": "code",
   "execution_count": 61,
   "metadata": {},
   "outputs": [],
   "source": [
    "import requests\n",
    "from bs4 import BeautifulSoup  \n",
    "import pandas as pd\n",
    "import re \n",
    "from re import findall"
   ]
  },
  {
   "cell_type": "code",
   "execution_count": 2,
   "metadata": {},
   "outputs": [
    {
     "data": {
      "text/plain": [
       "200"
      ]
     },
     "execution_count": 2,
     "metadata": {},
     "output_type": "execute_result"
    }
   ],
   "source": [
    "website_url = 'https://countrymusichalloffame.org/hall-of-fame/members/'\n",
    "response = requests.get(website_url)\n",
    "\n",
    "response.status_code"
   ]
  },
  {
   "cell_type": "code",
   "execution_count": null,
   "metadata": {},
   "outputs": [],
   "source": [
    "print(type(response))\n",
    "response.content"
   ]
  },
  {
   "cell_type": "code",
   "execution_count": 4,
   "metadata": {},
   "outputs": [
    {
     "name": "stdout",
     "output_type": "stream",
     "text": [
      "<title>Hall of Fame Members | Country Music Hall of Fame</title>\n"
     ]
    }
   ],
   "source": [
    "soup = BeautifulSoup(response.content, 'lxml')\n",
    "print(soup.title)"
   ]
  },
  {
   "cell_type": "markdown",
   "metadata": {},
   "source": [
    "1. Start by using either the inspector or by viewing the page source. Can you identify a tag that might be helpful for finding the names of all inductees? Make use of this to create a list containing just the names of each inductee."
   ]
  },
  {
   "cell_type": "code",
   "execution_count": 93,
   "metadata": {},
   "outputs": [
    {
     "data": {
      "text/plain": [
       "[<div class=\"vertical-card_content--title\">\n",
       " <h3>Roy Acuff</h3>\n",
       " </div>,\n",
       " <div class=\"vertical-card_content--title\">\n",
       " <h3>Alabama</h3>\n",
       " </div>,\n",
       " <div class=\"vertical-card_content--title\">\n",
       " <h3>Bill Anderson</h3>\n",
       " </div>,\n",
       " <div class=\"vertical-card_content--title\">\n",
       " <h3>Eddy Arnold</h3>\n",
       " </div>,\n",
       " <div class=\"vertical-card_content--title\">\n",
       " <h3>Chet Atkins</h3>\n",
       " </div>,\n",
       " <div class=\"vertical-card_content--title\">\n",
       " <h3>Gene Autry</h3>\n",
       " </div>,\n",
       " <div class=\"vertical-card_content--title\">\n",
       " <h3>DeFord Bailey</h3>\n",
       " </div>,\n",
       " <div class=\"vertical-card_content--title\">\n",
       " <h3>Bobby Bare</h3>\n",
       " </div>,\n",
       " <div class=\"vertical-card_content--title\">\n",
       " <h3>Johnny Bond</h3>\n",
       " </div>]"
      ]
     },
     "execution_count": 93,
     "metadata": {},
     "output_type": "execute_result"
    }
   ],
   "source": [
    "artists = soup.find_all('div', attrs = {'class': 'vertical-card_content--title'})\n",
    "artists"
   ]
  },
  {
   "cell_type": "code",
   "execution_count": 79,
   "metadata": {},
   "outputs": [
    {
     "data": {
      "text/plain": [
       "9"
      ]
     },
     "execution_count": 79,
     "metadata": {},
     "output_type": "execute_result"
    }
   ],
   "source": [
    "len(artists)"
   ]
  },
  {
   "cell_type": "code",
   "execution_count": 169,
   "metadata": {
    "scrolled": true
   },
   "outputs": [],
   "source": [
    "namelist = []\n",
    "for names in soup.find_all('h3'):\n",
    "        namelist.append(names.get_text())\n",
    "        \n",
    "    "
   ]
  },
  {
   "cell_type": "code",
   "execution_count": 170,
   "metadata": {},
   "outputs": [
    {
     "data": {
      "text/plain": [
       "['Roy Acuff',\n",
       " 'Alabama',\n",
       " 'Bill Anderson',\n",
       " 'Eddy Arnold',\n",
       " 'Chet Atkins',\n",
       " 'Gene Autry',\n",
       " 'DeFord Bailey',\n",
       " 'Bobby Bare',\n",
       " 'Johnny Bond']"
      ]
     },
     "execution_count": 170,
     "metadata": {},
     "output_type": "execute_result"
    }
   ],
   "source": [
    "namelist"
   ]
  },
  {
   "cell_type": "markdown",
   "metadata": {},
   "source": [
    "2. Next, try and find a tag that could be used to find the year that each member was inducted. Extract these into a list. When you do this, be sure to only include the year and not the full text. For example, for Roy Acuff, the list entry should be \"1962\" and not \"Inducted 1962\". Double-check that the resulting list has the correct number of elements and is in the same order as your inductees list."
   ]
  },
  {
   "cell_type": "code",
   "execution_count": 295,
   "metadata": {},
   "outputs": [
    {
     "name": "stdout",
     "output_type": "stream",
     "text": [
      "[]\n"
     ]
    }
   ],
   "source": [
    "yearlist = []\n",
    "contentTable  = soup.find('div', { \"class\" : \"vertical-card_content--copy\"})\n",
    "rows  = contentTable.find_all('p', string = 'Inducted')\n",
    "print(rows)\n",
    "for row in rows:\n",
    "    yearlist.append(row.get_text())\n"
   ]
  },
  {
   "cell_type": "code",
   "execution_count": 296,
   "metadata": {
    "scrolled": true
   },
   "outputs": [
    {
     "data": {
      "text/plain": [
       "[]"
      ]
     },
     "execution_count": 296,
     "metadata": {},
     "output_type": "execute_result"
    }
   ],
   "source": [
    "yearlist"
   ]
  },
  {
   "cell_type": "code",
   "execution_count": null,
   "metadata": {},
   "outputs": [],
   "source": []
  }
 ],
 "metadata": {
  "kernelspec": {
   "display_name": "Python 3",
   "language": "python",
   "name": "python3"
  },
  "language_info": {
   "codemirror_mode": {
    "name": "ipython",
    "version": 3
   },
   "file_extension": ".py",
   "mimetype": "text/x-python",
   "name": "python",
   "nbconvert_exporter": "python",
   "pygments_lexer": "ipython3",
   "version": "3.8.5"
  }
 },
 "nbformat": 4,
 "nbformat_minor": 4
}
