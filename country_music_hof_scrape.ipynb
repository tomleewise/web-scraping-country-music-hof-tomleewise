{
 "cells": [
  {
   "cell_type": "code",
   "execution_count": 61,
   "metadata": {},
   "outputs": [],
   "source": [
    "import requests\n",
    "from bs4 import BeautifulSoup  \n",
    "import pandas as pd\n",
    "import re \n",
    "from re import findall"
   ]
  },
  {
   "cell_type": "code",
   "execution_count": 2,
   "metadata": {},
   "outputs": [
    {
     "data": {
      "text/plain": [
       "200"
      ]
     },
     "execution_count": 2,
     "metadata": {},
     "output_type": "execute_result"
    }
   ],
   "source": [
    "website_url = 'https://countrymusichalloffame.org/hall-of-fame/members/'\n",
    "response = requests.get(website_url)\n",
    "\n",
    "response.status_code"
   ]
  },
  {
   "cell_type": "code",
   "execution_count": null,
   "metadata": {},
   "outputs": [],
   "source": [
    "print(type(response))\n",
    "response.content"
   ]
  },
  {
   "cell_type": "code",
   "execution_count": 4,
   "metadata": {},
   "outputs": [
    {
     "name": "stdout",
     "output_type": "stream",
     "text": [
      "<title>Hall of Fame Members | Country Music Hall of Fame</title>\n"
     ]
    }
   ],
   "source": [
    "soup = BeautifulSoup(response.content, 'lxml')\n",
    "print(soup.title)"
   ]
  },
  {
   "cell_type": "markdown",
   "metadata": {},
   "source": [
    "1. Start by using either the inspector or by viewing the page source. Can you identify a tag that might be helpful for finding the names of all inductees? Make use of this to create a list containing just the names of each inductee."
   ]
  },
  {
   "cell_type": "code",
   "execution_count": 93,
   "metadata": {},
   "outputs": [
    {
     "data": {
      "text/plain": [
       "[<div class=\"vertical-card_content--title\">\n",
       " <h3>Roy Acuff</h3>\n",
       " </div>,\n",
       " <div class=\"vertical-card_content--title\">\n",
       " <h3>Alabama</h3>\n",
       " </div>,\n",
       " <div class=\"vertical-card_content--title\">\n",
       " <h3>Bill Anderson</h3>\n",
       " </div>,\n",
       " <div class=\"vertical-card_content--title\">\n",
       " <h3>Eddy Arnold</h3>\n",
       " </div>,\n",
       " <div class=\"vertical-card_content--title\">\n",
       " <h3>Chet Atkins</h3>\n",
       " </div>,\n",
       " <div class=\"vertical-card_content--title\">\n",
       " <h3>Gene Autry</h3>\n",
       " </div>,\n",
       " <div class=\"vertical-card_content--title\">\n",
       " <h3>DeFord Bailey</h3>\n",
       " </div>,\n",
       " <div class=\"vertical-card_content--title\">\n",
       " <h3>Bobby Bare</h3>\n",
       " </div>,\n",
       " <div class=\"vertical-card_content--title\">\n",
       " <h3>Johnny Bond</h3>\n",
       " </div>]"
      ]
     },
     "execution_count": 93,
     "metadata": {},
     "output_type": "execute_result"
    }
   ],
   "source": [
    "artists = soup.find_all('div', attrs = {'class': 'vertical-card_content--title'})\n",
    "artists"
   ]
  },
  {
   "cell_type": "code",
   "execution_count": 79,
   "metadata": {},
   "outputs": [
    {
     "data": {
      "text/plain": [
       "9"
      ]
     },
     "execution_count": 79,
     "metadata": {},
     "output_type": "execute_result"
    }
   ],
   "source": [
    "len(artists)"
   ]
  },
  {
   "cell_type": "code",
   "execution_count": 169,
   "metadata": {
    "scrolled": true
   },
   "outputs": [],
   "source": [
    "namelist = []\n",
    "for names in soup.find_all('h3'):\n",
    "        namelist.append(names.get_text())\n",
    "        \n",
    "    "
   ]
  },
  {
   "cell_type": "code",
   "execution_count": 170,
   "metadata": {},
   "outputs": [
    {
     "data": {
      "text/plain": [
       "['Roy Acuff',\n",
       " 'Alabama',\n",
       " 'Bill Anderson',\n",
       " 'Eddy Arnold',\n",
       " 'Chet Atkins',\n",
       " 'Gene Autry',\n",
       " 'DeFord Bailey',\n",
       " 'Bobby Bare',\n",
       " 'Johnny Bond']"
      ]
     },
     "execution_count": 170,
     "metadata": {},
     "output_type": "execute_result"
    }
   ],
   "source": [
    "namelist"
   ]
  },
  {
   "cell_type": "markdown",
   "metadata": {},
   "source": [
    "2. Next, try and find a tag that could be used to find the year that each member was inducted. Extract these into a list. When you do this, be sure to only include the year and not the full text. For example, for Roy Acuff, the list entry should be \"1962\" and not \"Inducted 1962\". Double-check that the resulting list has the correct number of elements and is in the same order as your inductees list."
   ]
  },
  {
   "cell_type": "code",
   "execution_count": 260,
   "metadata": {},
   "outputs": [],
   "source": [
    "yearlist = []\n",
    "for year in soup.select('div p'):\n",
    "    yearlist.append(year)\n"
   ]
  },
  {
   "cell_type": "code",
   "execution_count": 261,
   "metadata": {
    "scrolled": true
   },
   "outputs": [
    {
     "data": {
      "text/plain": [
       "[<p>Masks are required for educational programs in the Museum’s theaters and classrooms, as well as for tours to Historic RCA Studio B and Hatch Show Print.</p>,\n",
       " <p style=\"text-align: center;\">Open Daily</p>,\n",
       " <p></p>,\n",
       " <p>Election to the Country Music Hall of Fame is country music's highest honor. The Country Music Association (CMA), the country music industry's trade organization, created the accolade to recognize significant contributions to the advancement of country music by individuals in both the creative and business communities. The first members—Jimmie Rodgers, Fred Rose, and Hank Williams—were inducted in 1961.</p>,\n",
       " <p>\n",
       "                     Inducted 1962                  </p>,\n",
       " <p>\n",
       "                     Inducted 2005                  </p>,\n",
       " <p>\n",
       "                     Inducted 2001                  </p>,\n",
       " <p>\n",
       "                     Inducted 1966                  </p>,\n",
       " <p>\n",
       "                     Inducted 1973                  </p>,\n",
       " <p>\n",
       "                     Inducted 1969                  </p>,\n",
       " <p>\n",
       "                     Inducted 2005                  </p>,\n",
       " <p>\n",
       "                     Inducted 2013                  </p>,\n",
       " <p>\n",
       "                     Inducted 1999                  </p>,\n",
       " <p>STAY UP TO DATE</p>,\n",
       " <p>FOLLOW US</p>,\n",
       " <p style=\"text-align: center;\">Country Music Hall of Fame and Museum • 222 Rep. John Lewis Way S Nashville, TN 37203 • Phone: 615.416.2001 ©2018 Country Music Hall of Fame® and Museum All Rights Reserved | <a href=\"https://countrymusichalloffame.org/privacy-policy/\">Privacy Policy</a> | <a href=\"https://countrymusichalloffame.org/terms-of-use/\">Terms Of Use</a></p>,\n",
       " <p><a href=\"https://www.aam-us.org/\" target=\"_blank\"><img alt=\"\" class=\"aligncenter wp-image-9376 size-full\" height=\"55\" src=\"https://cmhof.imgix.net/content/uploads/2019/04/American-Alliance-of-Museums-Footer-1.png\" width=\"55\"/></a></p>,\n",
       " <p style=\"text-align: center;\">Site Designed and Developed by <a href=\"http://5by5agency.com/\" rel=\"noopener\" target=\"_blank\">5by5 - A Change Agency</a></p>,\n",
       " <p>We use cookies in the following ways: (1) for system administration, (2) to assess the performance of the website, (3) to personalize your experience, content and ads, (4) to provide social media features, and (5) to analyze our traffic. You consent to our cookies if you continue to use our website.  Please consult instructions for your web browser to disable or block cookies, or to receive a warning before a cookie is stored on your computer or mobile device.</p>]"
      ]
     },
     "execution_count": 261,
     "metadata": {},
     "output_type": "execute_result"
    }
   ],
   "source": [
    "yearlist"
   ]
  },
  {
   "cell_type": "code",
   "execution_count": null,
   "metadata": {},
   "outputs": [],
   "source": []
  }
 ],
 "metadata": {
  "kernelspec": {
   "display_name": "Python 3",
   "language": "python",
   "name": "python3"
  },
  "language_info": {
   "codemirror_mode": {
    "name": "ipython",
    "version": 3
   },
   "file_extension": ".py",
   "mimetype": "text/x-python",
   "name": "python",
   "nbconvert_exporter": "python",
   "pygments_lexer": "ipython3",
   "version": "3.8.5"
  }
 },
 "nbformat": 4,
 "nbformat_minor": 4
}
