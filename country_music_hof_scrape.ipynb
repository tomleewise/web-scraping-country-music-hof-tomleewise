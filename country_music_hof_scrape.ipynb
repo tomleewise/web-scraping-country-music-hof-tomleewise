{
 "cells": [
  {
   "cell_type": "code",
   "execution_count": 61,
   "metadata": {},
   "outputs": [],
   "source": [
    "import requests\n",
    "from bs4 import BeautifulSoup  \n",
    "import pandas as pd\n",
    "import re \n",
    "from re import findall"
   ]
  },
  {
   "cell_type": "code",
   "execution_count": 2,
   "metadata": {},
   "outputs": [
    {
     "data": {
      "text/plain": [
       "200"
      ]
     },
     "execution_count": 2,
     "metadata": {},
     "output_type": "execute_result"
    }
   ],
   "source": [
    "website_url = 'https://countrymusichalloffame.org/hall-of-fame/members/'\n",
    "response = requests.get(website_url)\n",
    "\n",
    "response.status_code"
   ]
  },
  {
   "cell_type": "code",
   "execution_count": null,
   "metadata": {},
   "outputs": [],
   "source": [
    "print(type(response))\n",
    "response.content"
   ]
  },
  {
   "cell_type": "code",
   "execution_count": 4,
   "metadata": {},
   "outputs": [
    {
     "name": "stdout",
     "output_type": "stream",
     "text": [
      "<title>Hall of Fame Members | Country Music Hall of Fame</title>\n"
     ]
    }
   ],
   "source": [
    "soup = BeautifulSoup(response.content, 'lxml')\n",
    "print(soup.title)"
   ]
  },
  {
   "cell_type": "markdown",
   "metadata": {},
   "source": [
    "1. Start by using either the inspector or by viewing the page source. Can you identify a tag that might be helpful for finding the names of all inductees? Make use of this to create a list containing just the names of each inductee."
   ]
  },
  {
   "cell_type": "code",
   "execution_count": 93,
   "metadata": {},
   "outputs": [
    {
     "data": {
      "text/plain": [
       "[<div class=\"vertical-card_content--title\">\n",
       " <h3>Roy Acuff</h3>\n",
       " </div>,\n",
       " <div class=\"vertical-card_content--title\">\n",
       " <h3>Alabama</h3>\n",
       " </div>,\n",
       " <div class=\"vertical-card_content--title\">\n",
       " <h3>Bill Anderson</h3>\n",
       " </div>,\n",
       " <div class=\"vertical-card_content--title\">\n",
       " <h3>Eddy Arnold</h3>\n",
       " </div>,\n",
       " <div class=\"vertical-card_content--title\">\n",
       " <h3>Chet Atkins</h3>\n",
       " </div>,\n",
       " <div class=\"vertical-card_content--title\">\n",
       " <h3>Gene Autry</h3>\n",
       " </div>,\n",
       " <div class=\"vertical-card_content--title\">\n",
       " <h3>DeFord Bailey</h3>\n",
       " </div>,\n",
       " <div class=\"vertical-card_content--title\">\n",
       " <h3>Bobby Bare</h3>\n",
       " </div>,\n",
       " <div class=\"vertical-card_content--title\">\n",
       " <h3>Johnny Bond</h3>\n",
       " </div>]"
      ]
     },
     "execution_count": 93,
     "metadata": {},
     "output_type": "execute_result"
    }
   ],
   "source": [
    "artists = soup.find_all('div', attrs = {'class': 'vertical-card_content--title'})\n",
    "artists"
   ]
  },
  {
   "cell_type": "code",
   "execution_count": 79,
   "metadata": {},
   "outputs": [
    {
     "data": {
      "text/plain": [
       "9"
      ]
     },
     "execution_count": 79,
     "metadata": {},
     "output_type": "execute_result"
    }
   ],
   "source": [
    "len(artists)"
   ]
  },
  {
   "cell_type": "code",
   "execution_count": 169,
   "metadata": {
    "scrolled": true
   },
   "outputs": [],
   "source": [
    "namelist = []\n",
    "for names in soup.find_all('h3'):\n",
    "        namelist.append(names.get_text())\n",
    "        \n",
    "    "
   ]
  },
  {
   "cell_type": "code",
   "execution_count": 170,
   "metadata": {},
   "outputs": [
    {
     "data": {
      "text/plain": [
       "['Roy Acuff',\n",
       " 'Alabama',\n",
       " 'Bill Anderson',\n",
       " 'Eddy Arnold',\n",
       " 'Chet Atkins',\n",
       " 'Gene Autry',\n",
       " 'DeFord Bailey',\n",
       " 'Bobby Bare',\n",
       " 'Johnny Bond']"
      ]
     },
     "execution_count": 170,
     "metadata": {},
     "output_type": "execute_result"
    }
   ],
   "source": [
    "namelist"
   ]
  },
  {
   "cell_type": "markdown",
   "metadata": {},
   "source": [
    "2. Next, try and find a tag that could be used to find the year that each member was inducted. Extract these into a list. When you do this, be sure to only include the year and not the full text. For example, for Roy Acuff, the list entry should be \"1962\" and not \"Inducted 1962\". Double-check that the resulting list has the correct number of elements and is in the same order as your inductees list."
   ]
  },
  {
   "cell_type": "code",
   "execution_count": 356,
   "metadata": {},
   "outputs": [],
   "source": [
    "year = soup.find_all('div', attrs = {'class': 'vertical-card_content--copy'})"
   ]
  },
  {
   "cell_type": "code",
   "execution_count": 357,
   "metadata": {
    "scrolled": true
   },
   "outputs": [
    {
     "data": {
      "text/plain": [
       "bs4.element.ResultSet"
      ]
     },
     "execution_count": 357,
     "metadata": {},
     "output_type": "execute_result"
    }
   ],
   "source": [
    "type(year)"
   ]
  },
  {
   "cell_type": "code",
   "execution_count": 364,
   "metadata": {},
   "outputs": [],
   "source": [
    "yearlist = []\n",
    "for row in soup.find_all(\"div p\"):\n",
    "    yearlist.row\n",
    "    yearlist.append(int(row.text.strip().replace('Inducted',\"\")))\n",
    "yearlist"
   ]
  },
  {
   "cell_type": "code",
   "execution_count": 365,
   "metadata": {
    "scrolled": true
   },
   "outputs": [
    {
     "data": {
      "text/plain": [
       "[]"
      ]
     },
     "execution_count": 365,
     "metadata": {},
     "output_type": "execute_result"
    }
   ],
   "source": [
    "yearlist"
   ]
  },
  {
   "cell_type": "code",
   "execution_count": 367,
   "metadata": {},
   "outputs": [],
   "source": [
    "yearlist = [int(row.text.strip().replace('Inducted',\"\"))for row in year]"
   ]
  },
  {
   "cell_type": "raw",
   "metadata": {},
   "source": []
  },
  {
   "cell_type": "code",
   "execution_count": 368,
   "metadata": {},
   "outputs": [
    {
     "data": {
      "text/plain": [
       "[1962, 2005, 2001, 1966, 1973, 1969, 2005, 2013, 1999]"
      ]
     },
     "execution_count": 368,
     "metadata": {},
     "output_type": "execute_result"
    }
   ],
   "source": [
    "yearlist"
   ]
  },
  {
   "cell_type": "markdown",
   "metadata": {},
   "source": [
    "3. Take the two lists you created on parts 1 and 2 and convert it into a pandas DataFrame."
   ]
  },
  {
   "cell_type": "code",
   "execution_count": 375,
   "metadata": {},
   "outputs": [],
   "source": [
    "lists = [namelist, yearlist]\n",
    "hof_df = pd.concat([pd.Series(x) for x in lists], axis=1)\n",
    "\n",
    "\n"
   ]
  },
  {
   "cell_type": "code",
   "execution_count": 376,
   "metadata": {},
   "outputs": [
    {
     "data": {
      "text/html": [
       "<div>\n",
       "<style scoped>\n",
       "    .dataframe tbody tr th:only-of-type {\n",
       "        vertical-align: middle;\n",
       "    }\n",
       "\n",
       "    .dataframe tbody tr th {\n",
       "        vertical-align: top;\n",
       "    }\n",
       "\n",
       "    .dataframe thead th {\n",
       "        text-align: right;\n",
       "    }\n",
       "</style>\n",
       "<table border=\"1\" class=\"dataframe\">\n",
       "  <thead>\n",
       "    <tr style=\"text-align: right;\">\n",
       "      <th></th>\n",
       "      <th>0</th>\n",
       "      <th>1</th>\n",
       "    </tr>\n",
       "  </thead>\n",
       "  <tbody>\n",
       "    <tr>\n",
       "      <th>0</th>\n",
       "      <td>Roy Acuff</td>\n",
       "      <td>1962</td>\n",
       "    </tr>\n",
       "    <tr>\n",
       "      <th>1</th>\n",
       "      <td>Alabama</td>\n",
       "      <td>2005</td>\n",
       "    </tr>\n",
       "    <tr>\n",
       "      <th>2</th>\n",
       "      <td>Bill Anderson</td>\n",
       "      <td>2001</td>\n",
       "    </tr>\n",
       "    <tr>\n",
       "      <th>3</th>\n",
       "      <td>Eddy Arnold</td>\n",
       "      <td>1966</td>\n",
       "    </tr>\n",
       "    <tr>\n",
       "      <th>4</th>\n",
       "      <td>Chet Atkins</td>\n",
       "      <td>1973</td>\n",
       "    </tr>\n",
       "    <tr>\n",
       "      <th>5</th>\n",
       "      <td>Gene Autry</td>\n",
       "      <td>1969</td>\n",
       "    </tr>\n",
       "    <tr>\n",
       "      <th>6</th>\n",
       "      <td>DeFord Bailey</td>\n",
       "      <td>2005</td>\n",
       "    </tr>\n",
       "    <tr>\n",
       "      <th>7</th>\n",
       "      <td>Bobby Bare</td>\n",
       "      <td>2013</td>\n",
       "    </tr>\n",
       "    <tr>\n",
       "      <th>8</th>\n",
       "      <td>Johnny Bond</td>\n",
       "      <td>1999</td>\n",
       "    </tr>\n",
       "  </tbody>\n",
       "</table>\n",
       "</div>"
      ],
      "text/plain": [
       "               0     1\n",
       "0      Roy Acuff  1962\n",
       "1        Alabama  2005\n",
       "2  Bill Anderson  2001\n",
       "3    Eddy Arnold  1966\n",
       "4    Chet Atkins  1973\n",
       "5     Gene Autry  1969\n",
       "6  DeFord Bailey  2005\n",
       "7     Bobby Bare  2013\n",
       "8    Johnny Bond  1999"
      ]
     },
     "execution_count": 376,
     "metadata": {},
     "output_type": "execute_result"
    }
   ],
   "source": [
    "hof_df"
   ]
  },
  {
   "cell_type": "markdown",
   "metadata": {},
   "source": [
    "4. Now, you need to take what you created for the first page and apply it across the rest of the pages so that you can scrape all inductees. Notice that when you click the next page button at the bottom of the page that the url changes to \"https://countrymusichalloffame.org/hall-of-fame/members/page/2\". Check that the code that you wrote for the first page still works for page 2. Once you have verified that your code will still work, write a for loop that will cycle through all 16 pages and build a DataFrame containing all inductees and the year of their induction."
   ]
  },
  {
   "cell_type": "markdown",
   "metadata": {},
   "source": [
    "#Checking if code works for page 2"
   ]
  },
  {
   "cell_type": "code",
   "execution_count": 387,
   "metadata": {},
   "outputs": [],
   "source": [
    "website_url_two = 'https://countrymusichalloffame.org/hall-of-fame/members/page/2'\n",
    "response_two = requests.get(website_url_two)\n",
    "    "
   ]
  },
  {
   "cell_type": "code",
   "execution_count": 388,
   "metadata": {},
   "outputs": [
    {
     "name": "stdout",
     "output_type": "stream",
     "text": [
      "<title>Hall of Fame Members | Country Music Hall of Fame</title>\n"
     ]
    }
   ],
   "source": [
    "soup2 = BeautifulSoup(response_two.content, 'lxml')\n",
    "print(soup.title)"
   ]
  },
  {
   "cell_type": "code",
   "execution_count": 389,
   "metadata": {},
   "outputs": [
    {
     "data": {
      "text/plain": [
       "[<div class=\"vertical-card_content--title\">\n",
       " <h3>Bobby Braddock</h3>\n",
       " </div>,\n",
       " <div class=\"vertical-card_content--title\">\n",
       " <h3>Harold Bradley</h3>\n",
       " </div>,\n",
       " <div class=\"vertical-card_content--title\">\n",
       " <h3>Jerry Bradley</h3>\n",
       " </div>,\n",
       " <div class=\"vertical-card_content--title\">\n",
       " <h3>Owen Bradley</h3>\n",
       " </div>,\n",
       " <div class=\"vertical-card_content--title\">\n",
       " <h3>Rod Brasfield</h3>\n",
       " </div>,\n",
       " <div class=\"vertical-card_content--title\">\n",
       " <h3>Garth Brooks</h3>\n",
       " </div>,\n",
       " <div class=\"vertical-card_content--title\">\n",
       " <h3>Brooks &amp; Dunn</h3>\n",
       " </div>,\n",
       " <div class=\"vertical-card_content--title\">\n",
       " <h3>Jim Ed Brown</h3>\n",
       " </div>,\n",
       " <div class=\"vertical-card_content--title\">\n",
       " <h3>Jim Ed Brown and the Browns</h3>\n",
       " </div>]"
      ]
     },
     "execution_count": 389,
     "metadata": {},
     "output_type": "execute_result"
    }
   ],
   "source": [
    "artists2 = soup2.find_all('div', attrs = {'class': 'vertical-card_content--title'})\n",
    "artists2"
   ]
  },
  {
   "cell_type": "code",
   "execution_count": 390,
   "metadata": {},
   "outputs": [],
   "source": [
    "namelist = []\n",
    "for names in soup2.find_all('h3'):\n",
    "        namelist.append(names.get_text())"
   ]
  },
  {
   "cell_type": "code",
   "execution_count": 391,
   "metadata": {},
   "outputs": [
    {
     "data": {
      "text/plain": [
       "['Bobby Braddock',\n",
       " 'Harold Bradley',\n",
       " 'Jerry Bradley',\n",
       " 'Owen Bradley',\n",
       " 'Rod Brasfield',\n",
       " 'Garth Brooks',\n",
       " 'Brooks & Dunn',\n",
       " 'Jim Ed Brown',\n",
       " 'Jim Ed Brown and the Browns']"
      ]
     },
     "execution_count": 391,
     "metadata": {},
     "output_type": "execute_result"
    }
   ],
   "source": [
    "namelist"
   ]
  },
  {
   "cell_type": "markdown",
   "metadata": {},
   "source": [
    "#Loop to scrape all 16 pages"
   ]
  },
  {
   "cell_type": "code",
   "execution_count": 399,
   "metadata": {},
   "outputs": [],
   "source": [
    "page = 1\n",
    "namelist2 = []\n",
    "yearlist2= []\n",
    "\n",
    "while page != 17:\n",
    "    url = 'https://countrymusichalloffame.org/hall-of-fame/members/{page}'\n",
    "    response = requests.get(url)\n",
    "    html = response.content\n",
    "    soup = BeautifulSoup(html, \"lxml\")\n",
    "    for names in soup.find_all('h3'):\n",
    "        namelist2.append(names.get_text())\n",
    "        for row in soup.find_all(\"div p\"):\n",
    "            yearlist.row\n",
    "            yearlist2.append(int(row.text.strip().replace('Inducted',\"\")))\n",
    "    page = page + 1"
   ]
  },
  {
   "cell_type": "code",
   "execution_count": 402,
   "metadata": {},
   "outputs": [
    {
     "data": {
      "text/plain": [
       "[]"
      ]
     },
     "execution_count": 402,
     "metadata": {},
     "output_type": "execute_result"
    }
   ],
   "source": [
    "yearlist2"
   ]
  },
  {
   "cell_type": "code",
   "execution_count": null,
   "metadata": {},
   "outputs": [],
   "source": []
  },
  {
   "cell_type": "code",
   "execution_count": null,
   "metadata": {},
   "outputs": [],
   "source": []
  }
 ],
 "metadata": {
  "kernelspec": {
   "display_name": "Python 3",
   "language": "python",
   "name": "python3"
  },
  "language_info": {
   "codemirror_mode": {
    "name": "ipython",
    "version": 3
   },
   "file_extension": ".py",
   "mimetype": "text/x-python",
   "name": "python",
   "nbconvert_exporter": "python",
   "pygments_lexer": "ipython3",
   "version": "3.8.5"
  }
 },
 "nbformat": 4,
 "nbformat_minor": 4
}
